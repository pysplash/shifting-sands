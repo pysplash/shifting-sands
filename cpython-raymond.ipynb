{
 "cells": [
  {
   "cell_type": "markdown",
   "metadata": {},
   "source": [
    "# Raymond Hettinger - PyBay SF keynote\n",
    "\n",
    "## \"Being a Core Developer\""
   ]
  },
  {
   "cell_type": "code",
   "execution_count": null,
   "metadata": {
    "collapsed": false
   },
   "outputs": [],
   "source": [
    "from IPython.display import YouTubeVideo\n",
    "YouTubeVideo(\"voXVTjwnn-U\")"
   ]
  },
  {
   "cell_type": "markdown",
   "metadata": {},
   "source": [
    "## What you can do"
   ]
  },
  {
   "cell_type": "markdown",
   "metadata": {},
   "source": [
    "### Add docstrings to the ElementTree package\n",
    "\n",
    "- 17:30 [link](https://youtu.be/voXVTjwnn-U?t=17m30s)"
   ]
  },
  {
   "cell_type": "markdown",
   "metadata": {},
   "source": [
    "### Review the CompactDict (27350)"
   ]
  },
  {
   "cell_type": "markdown",
   "metadata": {},
   "source": [
    "### Improve Error Reporting (watch users)\n",
    "\n",
    "- 19:30 [link](https://youtu.be/voXVTjwnn-U?t=19m30s)"
   ]
  },
  {
   "cell_type": "markdown",
   "metadata": {},
   "source": [
    "### Make IDLE a Credible Editor (27771)\n",
    "\n",
    "- 21:15 [link](https://youtu.be/voXVTjwnn-U?t=21m15s)"
   ]
  },
  {
   "cell_type": "markdown",
   "metadata": {},
   "source": [
    "### Weigh-in on whether proposals are good or bad\n",
    "\n",
    "- 22:15 [link](https://youtu.be/voXVTjwnn-U?t=22m15s)\n",
    "- 26988\n",
    "- 27754\n",
    "- 12345\n",
    "\n",
    "- random module - weighted choice"
   ]
  },
  {
   "cell_type": "markdown",
   "metadata": {},
   "source": [
    "### Help Design an API (18844)\n",
    "\n",
    "- 24:08 [link](https://youtu.be/voXVTjwnn-U?t=24m8s)"
   ]
  },
  {
   "cell_type": "code",
   "execution_count": null,
   "metadata": {
    "collapsed": true
   },
   "outputs": [],
   "source": []
  }
 ],
 "metadata": {
  "anaconda-cloud": {},
  "kernelspec": {
   "display_name": "Python [default]",
   "language": "python",
   "name": "python3"
  },
  "language_info": {
   "codemirror_mode": {
    "name": "ipython",
    "version": 3
   },
   "file_extension": ".py",
   "mimetype": "text/x-python",
   "name": "python",
   "nbconvert_exporter": "python",
   "pygments_lexer": "ipython3",
   "version": "3.5.2"
  }
 },
 "nbformat": 4,
 "nbformat_minor": 1
}
